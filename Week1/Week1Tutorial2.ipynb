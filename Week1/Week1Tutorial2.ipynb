{
  "nbformat": 4,
  "nbformat_minor": 0,
  "metadata": {
    "colab": {
      "name": "Week1Part2.ipynb",
      "provenance": [],
      "collapsed_sections": [],
      "toc_visible": true,
      "authorship_tag": "ABX9TyNOdZ9jMN41XFEzlbqBEwqF",
      "include_colab_link": true
    },
    "kernelspec": {
      "name": "python3",
      "display_name": "Python 3"
    }
  },
  "cells": [
    {
      "cell_type": "markdown",
      "metadata": {
        "id": "view-in-github",
        "colab_type": "text"
      },
      "source": [
        "<a href=\"https://colab.research.google.com/github/ebatty/MathToolsforNeuroscience/blob/master/Week1/Week1Tutorial2.ipynb\" target=\"_parent\"><img src=\"https://colab.research.google.com/assets/colab-badge.svg\" alt=\"Open In Colab\"/></a>"
      ]
    },
    {
      "cell_type": "markdown",
      "metadata": {
        "id": "S9l0lyqLvkW7"
      },
      "source": [
        "# Week 1 Tutorial: Linear Algebra I\n",
        "\n",
        "# Tutorial 2\n",
        "\n",
        "# [insert your name]\n",
        "\n",
        "**Important reminders**: Before starting, click \"File -> Save a copy in Drive\". Produce a pdf for submission by \"File -> Print\" and then choose \"Save to PDF\".\n",
        "\n",
        "To complete this tutorial, you should have watched Video 1.1: Vectors, Video 1.2: Vector operations, and Video 1.3: Vector spaces.\n",
        "\n",
        "### Learning objectives\n"
      ]
    },
    {
      "cell_type": "code",
      "metadata": {
        "id": "cv9HSBNPyLV9"
      },
      "source": [
        "# Imports\n",
        "import numpy as np\n",
        "import matplotlib.pyplot as plt\n",
        "import matplotlib\n",
        "import ipywidgets as widgets   \n",
        "\n",
        "# Plotting parameters\n",
        "matplotlib.rcParams.update({'font.size': 22})"
      ],
      "execution_count": null,
      "outputs": []
    },
    {
      "cell_type": "code",
      "metadata": {
        "id": "ZIdPVYl9TzmK",
        "cellView": "form"
      },
      "source": [
        "# @title Hidden functions\n"
      ],
      "execution_count": null,
      "outputs": []
    },
    {
      "cell_type": "markdown",
      "metadata": {
        "id": "cK06c3q1Ecks"
      },
      "source": [
        "# Exercise 1: Set of vectors\n",
        "\n",
        "Advice: if you're confused on part A, C, or D, go to the relevant section of Video 1.3! For Part B, see the Tutorial Part 1 Exercise 1C\n",
        "\n",
        "Let's say we have four vectors: \n",
        "\n",
        "$$ \\bar{a} = \\begin{bmatrix}\n",
        "    4 \\\\ 2 \\\\ 0\n",
        "\\end{bmatrix},  \\bar{b} = \\begin{bmatrix}\n",
        "    1 \\\\ 0 \\\\ 3, \n",
        "\\end{bmatrix}, \\bar{c} = \\begin{bmatrix}\n",
        "    5 \\\\ 2 \\\\ 3\n",
        "\\end{bmatrix}, \\bar{d} = \\begin{bmatrix}\n",
        "    3 \\\\ 3 \\\\ 2\n",
        "\\end{bmatrix}$$\n",
        "\n"
      ]
    },
    {
      "cell_type": "markdown",
      "metadata": {
        "id": "FakYoWiBI3c3"
      },
      "source": [
        "## A) Linear independence vs dependence\n",
        "Are these vectors linearly independent or dependent? Why?\n"
      ]
    },
    {
      "cell_type": "markdown",
      "metadata": {
        "id": "GBd4H2J4HykI"
      },
      "source": [
        "**Your text answer here**"
      ]
    },
    {
      "cell_type": "markdown",
      "metadata": {
        "id": "rpHhKU9vI6sw"
      },
      "source": [
        "## B) Orthogonal vectors\n",
        "Are vectors $\\bar{a}$ and $\\bar{b}$ orthogonal? How do you know?"
      ]
    },
    {
      "cell_type": "markdown",
      "metadata": {
        "id": "xIlvzkegJFH7"
      },
      "source": [
        "**Your text answer here**"
      ]
    },
    {
      "cell_type": "markdown",
      "metadata": {
        "id": "Un1MFLx6JOTS"
      },
      "source": [
        "## C) Basis\n",
        "\n",
        "Can you make a basis for $R^3$ based on the above vectors? What is it?"
      ]
    },
    {
      "cell_type": "markdown",
      "metadata": {
        "id": "bZMN6uJ0Ji2r"
      },
      "source": [
        "**Your text/math answer here**"
      ]
    },
    {
      "cell_type": "markdown",
      "metadata": {
        "id": "YnxSY56IJrrD"
      },
      "source": [
        "## D) Span\n",
        "\n",
        "What is $Span\\{\\bar{a}, \\bar{b}, \\bar{c}, \\bar{d}\\}$? What is the span of your basis vectors in part C?"
      ]
    },
    {
      "cell_type": "markdown",
      "metadata": {
        "id": "hcKb3fEKJ-Gj"
      },
      "source": [
        "**Your text answer here**"
      ]
    },
    {
      "cell_type": "markdown",
      "metadata": {
        "id": "aI6TTwALKG2I"
      },
      "source": [
        "# Extra info: Vector Projections"
      ]
    },
    {
      "cell_type": "markdown",
      "metadata": {
        "id": "TZcNCzXHKTbi"
      },
      "source": [
        "We still haven't discussed one interesting computation involving the dot product: we can use the dot product to calculate the projection of one vector onto another. By projection of one vector onto another, we essentially mean the component of a vector that lies along another vector. For two vectors $\\bar{a}$ and $\\bar{b}$, we can compute the projection of $\\bar{b}$ onto $\\bar{a} as:\n",
        "\n",
        "$$ proj_{\\bar{a}} \\bar{b} =  \\frac{\\bar{a} \\cdot \\bar{b}}{||\\bar{a}||^2} \\bar{a}$$\n",
        "\n",
        "Let's think through what's happening in this formula. The first part (minus the squared at the bottom) $\\frac{\\bar{a} \\cdot \\bar{b}}{||\\bar{a}||}$ is a scalar - this is telling us the length of $proj_{\\bar{a}} \\bar{b}$. The second part $\\frac{\\bar{a}}{||a||}$ is a unit vector in the direction of $\\bar{a}$ - this is telling us the direction of $proj_{\\bar{a}} \\bar{b}$.\n"
      ]
    }
  ]
}